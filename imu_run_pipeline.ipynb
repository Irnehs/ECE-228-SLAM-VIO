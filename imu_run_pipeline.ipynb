{
 "cells": [
  {
   "cell_type": "code",
   "execution_count": 37,
   "id": "29f5927a",
   "metadata": {},
   "outputs": [],
   "source": [
    "import sys\n",
    "import os\n",
    "sys.path.append(os.path.abspath(\".\"))  \n",
    "import torch\n",
    "import torch.nn as nn\n",
    "import torch.nn.functional as F\n",
    "import pandas as pd\n",
    "import matplotlib.pyplot as plt\n",
    "from src.data_pipeline import prepare_sequence\n",
    "from src.data_processing import load_euroc_imu\n"
   ]
  },
  {
   "cell_type": "code",
   "execution_count": null,
   "id": "71ede356",
   "metadata": {},
   "outputs": [],
   "source": [
    "class IMUEncoder(nn.Module):\n",
    "    def __init__(self, input_dim=6, hidden_dim=64, encoder_type=\"rnn\"):\n",
    "        super(IMUEncoder, self).__init__()\n",
    "        self.rnn = nn.LSTM(input_dim, hidden_dim, batch_first=True, bidirectional=True)\n",
    "        self.output_dim = hidden_dim * 2 \n",
    "        self.norm = nn.LayerNorm(self.output_dim)\n",
    "        self.dropout = nn.Dropout(0.3)\n",
    "\n",
    "\n",
    "    def forward(self, x):\n",
    "        _, (hn, _) = self.rnn(x)\n",
    "        h = torch.cat((hn[-2], hn[-1]), dim=1)\n",
    "        h = self.norm(h)\n",
    "        h = self.dropout(h)\n",
    "        return h\n"
   ]
  },
  {
   "cell_type": "code",
   "execution_count": null,
   "id": "e6b0c315",
   "metadata": {},
   "outputs": [],
   "source": [
    "sequence_length = 50\n",
    "batch = prepare_sequence(\"data/data.csv\", sequence_length)\n",
    "model = IMUEncoder(input_dim=6, hidden_dim=64)\n",
    "output = model(batch)"
   ]
  }
 ],
 "metadata": {
  "kernelspec": {
   "display_name": "Python (base)",
   "language": "python",
   "name": "base"
  },
  "language_info": {
   "codemirror_mode": {
    "name": "ipython",
    "version": 3
   },
   "file_extension": ".py",
   "mimetype": "text/x-python",
   "name": "python",
   "nbconvert_exporter": "python",
   "pygments_lexer": "ipython3",
   "version": "3.12.7"
  }
 },
 "nbformat": 4,
 "nbformat_minor": 5
}
