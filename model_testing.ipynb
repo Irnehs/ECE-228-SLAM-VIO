{
 "cells": [
  {
   "cell_type": "markdown",
   "id": "cf223e18-1cd0-4648-903f-497da7163102",
   "metadata": {},
   "source": [
    "# Testing the Individual Models\n",
    "\n",
    "## Data Loading"
   ]
  },
  {
   "cell_type": "code",
   "execution_count": null,
   "id": "bf9a92a9-3600-4e7a-9e20-557df5526521",
   "metadata": {},
   "outputs": [],
   "source": [
    "import torch\n",
    "from torch.utils.data import Dataset\n",
    "from torchvision import datasets\n",
    "from torchvision import transforms\n",
    "from PIL import Image\n",
    "import os\n",
    "import pandas as pd"
   ]
  },
  {
   "cell_type": "markdown",
   "id": "c5b10f71-ab3c-478b-9977-51c718d8d7db",
   "metadata": {},
   "source": [
    "Load data into a torch dataset"
   ]
  },
  {
   "cell_type": "code",
   "execution_count": null,
   "id": "8bbd64e0-9596-4005-a01d-c683a5d5a51d",
   "metadata": {},
   "outputs": [],
   "source": [
    "# Create an association between the timestamps and the corresponding images\n",
    "def prep_combined_csv(input_dir, output_filepath):\n",
    "    # Read the CSV files\n",
    "    cam0_path = os.path.join(input_dir, 'cam0')\n",
    "    cam1_path = os.path.join(input_dir, 'cam1')\n",
    "    cam0_csv_mappings = pd.read_csv(os.path.join(cam0_path, 'data.csv'))\n",
    "    cam1_csv_mappings = pd.read_csv(os.path.join(cam1_path, 'data.csv'))\n",
    "    imu0_path = os.path.join(input_dir, 'imu0')\n",
    "    imu_readings = pd.read_csv(os.path.join(imu0_path, 'data.csv')\n",
    "    \n",
    "    # Merge the IMU readings with the camera data\n",
    "    combined_df = pd.merge(cam0_csv_mappings, cam1_csv_mappings, on='#timestamp [ns]', how='outer', suffixes=('_cam0', '_cam1'))\n",
    "    combined_df = pd.merge(combined_df, imu_readings, on='#timestamp [ns]', how='outer')\n",
    "    combined_df['filename_cam0'] = combined_df['filename_cam0'].fillna(method='ffill')\n",
    "    combined_df['filename_cam1'] = combined_df['filename_cam1'].fillna(method='ffill')\n",
    "    combined_df.columns = ['timestamp', 'cam0_filename', 'cam1_filename', 'w_x', 'w_y', 'w_z', 'a_x', 'a_y', 'a_z']\n",
    "\n",
    "    # Save the combined dataframe to a new CSV file\n",
    "    combined_df.to_csv(output_filepath, index=False)\n",
    "\n",
    "class IMUImageDataset(Dataset):\n",
    "    def __init__(self, csv_path, cam0_image_root, cam1_image_root, transform=None):\n",
    "        self.data = pd.read_csv(csv_path)\n",
    "        self.cam0_image_root = cam0_image_root\n",
    "        self.cam1_image_root = cam1_image_root\n",
    "        self.transform = transform or transforms.Compose([\n",
    "            transforms.Resize((224, 224)),\n",
    "            transforms.ToTensor()\n",
    "        ])\n",
    "\n",
    "    def __len__(self):\n",
    "        return len(self.data)\n",
    "\n",
    "    def __getitem__(self, idx):\n",
    "        row = self.data.iloc[idx]\n",
    "\n",
    "        # Load image\n",
    "        cam0_path = os.path.join(self.cam0_image_root, row['cam0_filename'])\n",
    "        cam0_image = Image.open(cam0_path).convert(\"RGB\")\n",
    "        cam0_image = self.transform(cam0_image)\n",
    "\n",
    "        cam1_path = os.path.join(self.cam1_image_root, row['cam1_filename'])\n",
    "        cam1_image = Image.open(cam1_path).convert(\"RGB\")\n",
    "        cam1_image = self.transform(cam1_image)\n",
    "\n",
    "        # Load IMU features\n",
    "        imu = row[[\"w_x\", \"w_y\", \"w_z\", \"a_x\", \"a_y\", \"a_z\"]].values.astype(\"float32\")\n",
    "        imu_tensor = torch.tensor(imu)\n",
    "\n",
    "        return imu_tensor, cam0_image, cam1_image"
   ]
  },
  {
   "cell_type": "code",
   "execution_count": null,
   "id": "a50e0af9-450f-400a-a4e8-b05ee5e40818",
   "metadata": {},
   "outputs": [],
   "source": [
    "from torch.utils.data import random_split\n",
    "\n",
    "csv_path = None\n",
    "cam0_image_root = None\n",
    "cam1_image_root = None\n",
    "transform = None\n",
    "\n",
    "# imu_cam_dataset = IMUImageDataset(csv_path, cam0_image_root, cam1_image_root, transform=transform)\n",
    "# dataloader = DataLoader(imu_cam_dataset, batch_size=64, shuffle=False)\n",
    "\n",
    "# train_set, test_set = random_split()\n",
    "\n",
    "# Using CIFAR10 as an example\n",
    "# Load the training dataset\n",
    "trainset = torchvision.datasets.CIFAR10(root='./data', train=True, download=True, transform=transform)\n",
    "trainloader = torch.utils.data.DataLoader(trainset, batch_size=4, shuffle=True, num_workers=2)\n",
    "\n",
    "# Load the testing dataset\n",
    "testset = torchvision.datasets.CIFAR10(root='./data', train=False, download=True, transform=transform)\n",
    "testloader = torch.utils.data.DataLoader(testset, batch_size=4, shuffle=False, num_workers=2)"
   ]
  },
  {
   "cell_type": "markdown",
   "id": "5ab47a2f-1f4f-4e6b-b42b-eb56d536bea1",
   "metadata": {},
   "source": [
    "## ImageEncoder"
   ]
  },
  {
   "cell_type": "code",
   "execution_count": 2,
   "id": "aa6f036b-179d-4aa2-a291-cac813ded316",
   "metadata": {},
   "outputs": [],
   "source": [
    "from models.ImageEncoder import ImageEncoder"
   ]
  },
  {
   "cell_type": "code",
   "execution_count": null,
   "id": "3a52811a-2135-4d77-9a5d-baa77bc78fec",
   "metadata": {},
   "outputs": [],
   "source": [
    "# Parameters\n",
    "out_dim = 128\n",
    "ch_in = 3"
   ]
  },
  {
   "cell_type": "code",
   "execution_count": 3,
   "id": "16790ead-57df-41d9-8b96-b8c86d228cfb",
   "metadata": {},
   "outputs": [
    {
     "data": {
      "text/plain": [
       "models.ImageEncoder.ImageEncoder"
      ]
     },
     "execution_count": 3,
     "metadata": {},
     "output_type": "execute_result"
    }
   ],
   "source": [
    "image_encoder = ImageEncoder(ch_in=ch_in, out_dim=out_dim)\n",
    "\n",
    "\n",
    "num_epochs = 10\n",
    "\n",
    "for epoch in range(num_epochs):\n",
    "    # Set the model to training mode\n",
    "    image_encoder.train()\n",
    "    running_loss = 0.0\n",
    "\n",
    "    # Iterate over batches in the data loader\n",
    "    for batch_idx, (inputs, targets) in enumerate(dataloader):\n",
    "        # Zero the gradients\n",
    "        optimizer.zero_grad()\n",
    "\n",
    "        # Forward pass\n",
    "        outputs = image_encoder(inputs)\n",
    "\n",
    "        # Calculate the loss\n",
    "        loss = loss_function(outputs, targets)\n",
    "\n",
    "        # Backward pass\n",
    "        loss.backward()\n",
    "\n",
    "        # Update the weights\n",
    "        optimizer.step()\n",
    "\n",
    "        running_loss += loss.item()\n",
    "\n",
    "    # Print average loss for the epoch\n",
    "    print(f'Epoch [{epoch+1}/{num_epochs}], Loss: {running_loss/len(dataloader)}')\n",
    "\n",
    "print('Training finished.')"
   ]
  },
  {
   "cell_type": "code",
   "execution_count": null,
   "id": "36450206-f4c3-4e01-8c12-4d1315487236",
   "metadata": {},
   "outputs": [],
   "source": []
  }
 ],
 "metadata": {
  "kernelspec": {
   "display_name": "Python 3 (ipykernel)",
   "language": "python",
   "name": "python3"
  },
  "language_info": {
   "codemirror_mode": {
    "name": "ipython",
    "version": 3
   },
   "file_extension": ".py",
   "mimetype": "text/x-python",
   "name": "python",
   "nbconvert_exporter": "python",
   "pygments_lexer": "ipython3",
   "version": "3.11.7"
  }
 },
 "nbformat": 4,
 "nbformat_minor": 5
}
