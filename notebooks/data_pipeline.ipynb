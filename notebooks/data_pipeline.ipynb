{
 "cells": [
  {
   "cell_type": "code",
   "execution_count": 1,
   "id": "45004b52",
   "metadata": {},
   "outputs": [],
   "source": [
    "import pandas as pd\n",
    "import os"
   ]
  },
  {
   "cell_type": "code",
   "execution_count": null,
   "id": "51be410e",
   "metadata": {},
   "outputs": [],
   "source": [
    "# Create an association between the timestamps and the corresponding images\n",
    "def prep_combined_csv(input_dir, output_filepath):\n",
    "    # Read the CSV files\n",
    "    cam0_path = os.path.join(input_dir, 'cam0')\n",
    "    cam1_path = os.path.join(input_dir, 'cam1')\n",
    "    cam0_csv_mappings = pd.read_csv(os.path.join(cam0_path, 'data.csv'))\n",
    "    cam1_csv_mappings = pd.read_csv(os.path.join(cam1_path, 'data.csv'))\n",
    "    imu0_path = os.path.join(input_dir, 'imu0')\n",
    "    imu_readings = pd.read_csv(os.path.join(imu0_path, 'data.csv')\n",
    "    \n",
    "    # Merge the IMU readings with the camera data\n",
    "    combined_df = pd.merge(cam0_csv_mappings, cam1_csv_mappings, on='#timestamp [ns]', how='outer', suffixes=('_cam0', '_cam1'))\n",
    "    combined_df = pd.merge(combined_df, imu_readings, on='#timestamp [ns]', how='outer')\n",
    "    combined_df['filename_cam0'] = combined_df['filename_cam0'].fillna(method='ffill')\n",
    "    combined_df['filename_cam1'] = combined_df['filename_cam1'].fillna(method='ffill')\n",
    "    combined_df.columns = ['timestamp', 'cam0_filename', 'cam1_filename', 'w_x', 'w_y', 'w_z', 'a_x', 'a_y', 'a_z']\n",
    "\n",
    "    # Save the combined dataframe to a new CSV file\n",
    "    combined_df.to_csv(output_filepath, index=False)"
   ]
  },
  {
   "cell_type": "code",
   "execution_count": 3,
   "id": "b78e5c4d",
   "metadata": {},
   "outputs": [
    {
     "name": "stdout",
     "output_type": "stream",
     "text": [
      "       #timestamp [ns]  w_RS_S_x [rad s^-1]  w_RS_S_y [rad s^-1]  \\\n",
      "0  1403715273262142976            -0.002094             0.017453   \n",
      "1  1403715273267142912            -0.001396             0.019548   \n",
      "2  1403715273272143104            -0.002094             0.016755   \n",
      "3  1403715273277143040            -0.002793             0.020944   \n",
      "4  1403715273282142976            -0.002094             0.020944   \n",
      "\n",
      "   w_RS_S_z [rad s^-1]  a_RS_S_x [m s^-2]  a_RS_S_y [m s^-2]  \\\n",
      "0             0.077493           9.087496           0.130755   \n",
      "1             0.078191           9.079323           0.122583   \n",
      "2             0.074700           9.038462           0.147100   \n",
      "3             0.078191           9.071151           0.122583   \n",
      "4             0.078889           9.079323           0.130755   \n",
      "\n",
      "   a_RS_S_z [m s^-2]  \n",
      "0          -3.693838  \n",
      "1          -3.693838  \n",
      "2          -3.669322  \n",
      "3          -3.677494  \n",
      "4          -3.702010  \n"
     ]
    },
    {
     "name": "stderr",
     "output_type": "stream",
     "text": [
      "/var/folders/hf/q6tc_4715n55kfk9k2_v1g400000gn/T/ipykernel_18672/3862052268.py:15: FutureWarning: Series.fillna with 'method' is deprecated and will raise in a future version. Use obj.ffill() or obj.bfill() instead.\n",
      "  combined_df['filename_cam0'] = combined_df['filename_cam0'].fillna(method='ffill')\n",
      "/var/folders/hf/q6tc_4715n55kfk9k2_v1g400000gn/T/ipykernel_18672/3862052268.py:16: FutureWarning: Series.fillna with 'method' is deprecated and will raise in a future version. Use obj.ffill() or obj.bfill() instead.\n",
      "  combined_df['filename_cam1'] = combined_df['filename_cam1'].fillna(method='ffill')\n"
     ]
    }
   ],
   "source": [
    "prep_combined_csv(\"../data/mav0\", \"../data/mav0/combined.csv\")"
   ]
  },
  {
   "cell_type": "code",
   "execution_count": 4,
   "id": "a4cd820e",
   "metadata": {},
   "outputs": [],
   "source": [
    "from torch.utils.data import Dataset\n",
    "from torchvision import transforms\n",
    "from PIL import Image\n",
    "import torch\n",
    "import os\n",
    "import pandas as pd\n",
    "\n",
    "class IMUImageDataset(Dataset):\n",
    "    def __init__(self, csv_path, cam0_image_root, cam1_image_root, transform=None):\n",
    "        self.data = pd.read_csv(csv_path)\n",
    "        self.cam0_image_root = cam0_image_root\n",
    "        self.cam1_image_root = cam1_image_root\n",
    "        self.transform = transform or transforms.Compose([\n",
    "            transforms.Resize((224, 224)),\n",
    "            transforms.ToTensor()\n",
    "        ])\n",
    "\n",
    "    def __len__(self):\n",
    "        return len(self.data)\n",
    "\n",
    "    def __getitem__(self, idx):\n",
    "        row = self.data.iloc[idx]\n",
    "\n",
    "        # Load image\n",
    "        cam0_path = os.path.join(self.cam0_image_root, row['cam0_filename'])\n",
    "        cam0_image = Image.open(cam0_path).convert(\"RGB\")\n",
    "        cam0_image = self.transform(cam0_image)\n",
    "\n",
    "        cam1_path = os.path.join(self.cam1_image_root, row['cam1_filename'])\n",
    "        cam1_image = Image.open(cam1_path).convert(\"RGB\")\n",
    "        cam1_image = self.transform(cam1_image)\n",
    "\n",
    "        # Load IMU features\n",
    "        imu = row[[\"w_x\", \"w_y\", \"w_z\", \"a_x\", \"a_y\", \"a_z\"]].values.astype(\"float32\")\n",
    "        imu_tensor = torch.tensor(imu)\n",
    "\n",
    "        return imu_tensor, cam0_image, cam1_image"
   ]
  },
  {
   "cell_type": "code",
   "execution_count": 8,
   "id": "693f1fc5",
   "metadata": {},
   "outputs": [
    {
     "name": "stdout",
     "output_type": "stream",
     "text": [
      "torch.Size([6])\n",
      "torch.Size([3, 224, 224])\n",
      "torch.Size([3, 224, 224])\n"
     ]
    }
   ],
   "source": [
    "# Example usage:\n",
    "dataset = IMUImageDataset(\n",
    "    csv_path=\"../data/mav0/combined.csv\",\n",
    "    cam0_image_root=\"../data/mav0/cam0/data\",\n",
    "    cam1_image_root=\"../data/mav0/cam1/data\"\n",
    ")\n",
    "\n",
    "first_window = [dataset[i] for i in range(10)]\n",
    "imu_data, cam0_images, cam1_images = zip(*first_window)\n",
    "print(imu_data[0].shape)\n",
    "print(cam0_images[0].shape)\n",
    "print(cam1_images[0].shape)"
   ]
  }
 ],
 "metadata": {
  "kernelspec": {
   "display_name": "ece228-slam-vio",
   "language": "python",
   "name": "python3"
  },
  "language_info": {
   "codemirror_mode": {
    "name": "ipython",
    "version": 3
   },
   "file_extension": ".py",
   "mimetype": "text/x-python",
   "name": "python",
   "nbconvert_exporter": "python",
   "pygments_lexer": "ipython3",
   "version": "3.12.3"
  }
 },
 "nbformat": 4,
 "nbformat_minor": 5
}
