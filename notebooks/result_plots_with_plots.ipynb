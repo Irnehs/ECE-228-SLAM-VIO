{
 "cells": [
  {
   "cell_type": "markdown",
   "id": "8139b9cf",
   "metadata": {},
   "source": [
    "# Result Plots"
   ]
  },
  {
   "cell_type": "markdown",
   "id": "9c401a10",
   "metadata": {},
   "source": [
    "## Medium Dataset"
   ]
  },
  {
   "cell_type": "code",
   "execution_count": 5,
   "id": "1801ef2c",
   "metadata": {},
   "outputs": [],
   "source": [
    "import matplotlib.pyplot as plt\n",
    "import numpy as np\n",
    "import pandas as pd\n",
    "import torch\n",
    "\n",
    "medium_gt_trained = pd.read_csv('../data/test_results_medium/test_output_gt.csv')\n",
    "medium_vio_trained = pd.read_csv('../data/test_results_medium/test_output_vio.csv')\n",
    "\n",
    "hard_gt_trained = pd.read_csv('../data/test_results_hard/test_output_gt.csv')\n",
    "hard_vio_trained = pd.read_csv('../data/test_results_hard/test_output_vio.csv')"
   ]
  },
  {
   "cell_type": "code",
   "execution_count": null,
   "id": "4662619f",
   "metadata": {},
   "outputs": [
    {
     "ename": "KeyError",
     "evalue": "1",
     "output_type": "error",
     "traceback": [
      "\u001b[31m---------------------------------------------------------------------------\u001b[39m",
      "\u001b[31mKeyError\u001b[39m                                  Traceback (most recent call last)",
      "\u001b[36mFile \u001b[39m\u001b[32m/opt/homebrew/Caskroom/miniconda/base/envs/ece228-slam-vio/lib/python3.12/site-packages/pandas/core/indexes/base.py:3805\u001b[39m, in \u001b[36mIndex.get_loc\u001b[39m\u001b[34m(self, key)\u001b[39m\n\u001b[32m   3804\u001b[39m \u001b[38;5;28;01mtry\u001b[39;00m:\n\u001b[32m-> \u001b[39m\u001b[32m3805\u001b[39m     \u001b[38;5;28;01mreturn\u001b[39;00m \u001b[38;5;28;43mself\u001b[39;49m\u001b[43m.\u001b[49m\u001b[43m_engine\u001b[49m\u001b[43m.\u001b[49m\u001b[43mget_loc\u001b[49m\u001b[43m(\u001b[49m\u001b[43mcasted_key\u001b[49m\u001b[43m)\u001b[49m\n\u001b[32m   3806\u001b[39m \u001b[38;5;28;01mexcept\u001b[39;00m \u001b[38;5;167;01mKeyError\u001b[39;00m \u001b[38;5;28;01mas\u001b[39;00m err:\n",
      "\u001b[36mFile \u001b[39m\u001b[32mindex.pyx:167\u001b[39m, in \u001b[36mpandas._libs.index.IndexEngine.get_loc\u001b[39m\u001b[34m()\u001b[39m\n",
      "\u001b[36mFile \u001b[39m\u001b[32mindex.pyx:196\u001b[39m, in \u001b[36mpandas._libs.index.IndexEngine.get_loc\u001b[39m\u001b[34m()\u001b[39m\n",
      "\u001b[36mFile \u001b[39m\u001b[32mpandas/_libs/hashtable_class_helper.pxi:7081\u001b[39m, in \u001b[36mpandas._libs.hashtable.PyObjectHashTable.get_item\u001b[39m\u001b[34m()\u001b[39m\n",
      "\u001b[36mFile \u001b[39m\u001b[32mpandas/_libs/hashtable_class_helper.pxi:7089\u001b[39m, in \u001b[36mpandas._libs.hashtable.PyObjectHashTable.get_item\u001b[39m\u001b[34m()\u001b[39m\n",
      "\u001b[31mKeyError\u001b[39m: 1",
      "\nThe above exception was the direct cause of the following exception:\n",
      "\u001b[31mKeyError\u001b[39m                                  Traceback (most recent call last)",
      "\u001b[36mCell\u001b[39m\u001b[36m \u001b[39m\u001b[32mIn[9]\u001b[39m\u001b[32m, line 17\u001b[39m\n\u001b[32m     14\u001b[39m     df[\u001b[33m\"\u001b[39m\u001b[33mVIO vs. GT\u001b[39m\u001b[33m\"\u001b[39m] = df[\u001b[32m2\u001b[39m].apply(to_float)\n\u001b[32m     15\u001b[39m     df[\u001b[33m\"\u001b[39m\u001b[33mModel vs. GT\u001b[39m\u001b[33m\"\u001b[39m] = df[\u001b[32m3\u001b[39m].apply(to_float)\n\u001b[32m---> \u001b[39m\u001b[32m17\u001b[39m \u001b[43mclean_df\u001b[49m\u001b[43m(\u001b[49m\u001b[43mmedium_gt_trained\u001b[49m\u001b[43m)\u001b[49m\n\u001b[32m     18\u001b[39m clean_df(medium_vio_trained)\n\u001b[32m     19\u001b[39m clean_df(hard_gt_trained)\n",
      "\u001b[36mCell\u001b[39m\u001b[36m \u001b[39m\u001b[32mIn[9]\u001b[39m\u001b[32m, line 13\u001b[39m, in \u001b[36mclean_df\u001b[39m\u001b[34m(df)\u001b[39m\n\u001b[32m     12\u001b[39m \u001b[38;5;28;01mdef\u001b[39;00m\u001b[38;5;250m \u001b[39m\u001b[34mclean_df\u001b[39m(df: pd.DataFrame):\n\u001b[32m---> \u001b[39m\u001b[32m13\u001b[39m     df[\u001b[33m\"\u001b[39m\u001b[33mModel vs. VIO\u001b[39m\u001b[33m\"\u001b[39m] = \u001b[43mdf\u001b[49m\u001b[43m[\u001b[49m\u001b[32;43m1\u001b[39;49m\u001b[43m]\u001b[49m.apply(to_float)\n\u001b[32m     14\u001b[39m     df[\u001b[33m\"\u001b[39m\u001b[33mVIO vs. GT\u001b[39m\u001b[33m\"\u001b[39m] = df[\u001b[32m2\u001b[39m].apply(to_float)\n\u001b[32m     15\u001b[39m     df[\u001b[33m\"\u001b[39m\u001b[33mModel vs. GT\u001b[39m\u001b[33m\"\u001b[39m] = df[\u001b[32m3\u001b[39m].apply(to_float)\n",
      "\u001b[36mFile \u001b[39m\u001b[32m/opt/homebrew/Caskroom/miniconda/base/envs/ece228-slam-vio/lib/python3.12/site-packages/pandas/core/frame.py:4102\u001b[39m, in \u001b[36mDataFrame.__getitem__\u001b[39m\u001b[34m(self, key)\u001b[39m\n\u001b[32m   4100\u001b[39m \u001b[38;5;28;01mif\u001b[39;00m \u001b[38;5;28mself\u001b[39m.columns.nlevels > \u001b[32m1\u001b[39m:\n\u001b[32m   4101\u001b[39m     \u001b[38;5;28;01mreturn\u001b[39;00m \u001b[38;5;28mself\u001b[39m._getitem_multilevel(key)\n\u001b[32m-> \u001b[39m\u001b[32m4102\u001b[39m indexer = \u001b[38;5;28;43mself\u001b[39;49m\u001b[43m.\u001b[49m\u001b[43mcolumns\u001b[49m\u001b[43m.\u001b[49m\u001b[43mget_loc\u001b[49m\u001b[43m(\u001b[49m\u001b[43mkey\u001b[49m\u001b[43m)\u001b[49m\n\u001b[32m   4103\u001b[39m \u001b[38;5;28;01mif\u001b[39;00m is_integer(indexer):\n\u001b[32m   4104\u001b[39m     indexer = [indexer]\n",
      "\u001b[36mFile \u001b[39m\u001b[32m/opt/homebrew/Caskroom/miniconda/base/envs/ece228-slam-vio/lib/python3.12/site-packages/pandas/core/indexes/base.py:3812\u001b[39m, in \u001b[36mIndex.get_loc\u001b[39m\u001b[34m(self, key)\u001b[39m\n\u001b[32m   3807\u001b[39m     \u001b[38;5;28;01mif\u001b[39;00m \u001b[38;5;28misinstance\u001b[39m(casted_key, \u001b[38;5;28mslice\u001b[39m) \u001b[38;5;129;01mor\u001b[39;00m (\n\u001b[32m   3808\u001b[39m         \u001b[38;5;28misinstance\u001b[39m(casted_key, abc.Iterable)\n\u001b[32m   3809\u001b[39m         \u001b[38;5;129;01mand\u001b[39;00m \u001b[38;5;28many\u001b[39m(\u001b[38;5;28misinstance\u001b[39m(x, \u001b[38;5;28mslice\u001b[39m) \u001b[38;5;28;01mfor\u001b[39;00m x \u001b[38;5;129;01min\u001b[39;00m casted_key)\n\u001b[32m   3810\u001b[39m     ):\n\u001b[32m   3811\u001b[39m         \u001b[38;5;28;01mraise\u001b[39;00m InvalidIndexError(key)\n\u001b[32m-> \u001b[39m\u001b[32m3812\u001b[39m     \u001b[38;5;28;01mraise\u001b[39;00m \u001b[38;5;167;01mKeyError\u001b[39;00m(key) \u001b[38;5;28;01mfrom\u001b[39;00m\u001b[38;5;250m \u001b[39m\u001b[34;01merr\u001b[39;00m\n\u001b[32m   3813\u001b[39m \u001b[38;5;28;01mexcept\u001b[39;00m \u001b[38;5;167;01mTypeError\u001b[39;00m:\n\u001b[32m   3814\u001b[39m     \u001b[38;5;66;03m# If we have a listlike key, _check_indexing_error will raise\u001b[39;00m\n\u001b[32m   3815\u001b[39m     \u001b[38;5;66;03m#  InvalidIndexError. Otherwise we fall through and re-raise\u001b[39;00m\n\u001b[32m   3816\u001b[39m     \u001b[38;5;66;03m#  the TypeError.\u001b[39;00m\n\u001b[32m   3817\u001b[39m     \u001b[38;5;28mself\u001b[39m._check_indexing_error(key)\n",
      "\u001b[31mKeyError\u001b[39m: 1"
     ]
    }
   ],
   "source": [
    "def to_float(x):\n",
    "    if isinstance(x, str):\n",
    "        # Handle string like \"tensor(0.5041)\"\n",
    "        return float(x.replace(\"tensor(\", \"\").replace(\")\", \"\"))\n",
    "    elif isinstance(x, torch.Tensor):\n",
    "        return x.item()\n",
    "    elif isinstance(x, float) or isinstance(x, int):\n",
    "        return float(x)\n",
    "    else:\n",
    "        raise TypeError(f\"Unrecognized type in tensor column: {type(x)}\")\n",
    "\n",
    "def clean_df(df: pd.DataFrame):\n",
    "    df[\"Model vs. VIO\"] = df.iloc[:, 1].apply(to_float)\n",
    "    df[\"VIO vs. GT\"] = df.iloc[:, 2].apply(to_float)\n",
    "    df[\"Model vs. GT\"] = df.iloc[:, 3].apply(to_float)\n",
    "\n",
    "clean_df(medium_gt_trained)\n",
    "clean_df(medium_vio_trained)\n",
    "clean_df(hard_gt_trained)\n",
    "clean_df(hard_vio_trained)\n",
    "medium_gt_trained.head(5)"
   ]
  },
  {
   "cell_type": "code",
   "execution_count": null,
   "id": "8c24b77e",
   "metadata": {},
   "outputs": [
    {
     "data": {
      "application/vnd.microsoft.datawrangler.viewer.v0+json": {
       "columns": [
        {
         "name": "index",
         "rawType": "int64",
         "type": "integer"
        },
        {
         "name": "Unnamed: 0",
         "rawType": "int64",
         "type": "integer"
        },
        {
         "name": "Model vs. VIO Pose",
         "rawType": "object",
         "type": "string"
        },
        {
         "name": "VIO vs. Ground Truth Pose",
         "rawType": "object",
         "type": "string"
        },
        {
         "name": "Model vs. Ground Truth Pose",
         "rawType": "object",
         "type": "string"
        }
       ],
       "ref": "43275c25-b3fb-48fd-a93d-0e33f4e2fd63",
       "rows": [
        [
         "0",
         "0",
         "tensor(0.5041)",
         "tensor(1.0234)",
         "tensor(0.5414)"
        ],
        [
         "1",
         "1",
         "tensor(0.5043)",
         "tensor(1.0236)",
         "tensor(0.5412)"
        ],
        [
         "2",
         "2",
         "tensor(0.5042)",
         "tensor(1.0237)",
         "tensor(0.5413)"
        ],
        [
         "3",
         "3",
         "tensor(0.5042)",
         "tensor(1.0238)",
         "tensor(0.5414)"
        ],
        [
         "4",
         "4",
         "tensor(0.5042)",
         "tensor(1.0238)",
         "tensor(0.5413)"
        ]
       ],
       "shape": {
        "columns": 4,
        "rows": 5
       }
      },
      "text/html": [
       "<div>\n",
       "<style scoped>\n",
       "    .dataframe tbody tr th:only-of-type {\n",
       "        vertical-align: middle;\n",
       "    }\n",
       "\n",
       "    .dataframe tbody tr th {\n",
       "        vertical-align: top;\n",
       "    }\n",
       "\n",
       "    .dataframe thead th {\n",
       "        text-align: right;\n",
       "    }\n",
       "</style>\n",
       "<table border=\"1\" class=\"dataframe\">\n",
       "  <thead>\n",
       "    <tr style=\"text-align: right;\">\n",
       "      <th></th>\n",
       "      <th>Unnamed: 0</th>\n",
       "      <th>Model vs. VIO Pose</th>\n",
       "      <th>VIO vs. Ground Truth Pose</th>\n",
       "      <th>Model vs. Ground Truth Pose</th>\n",
       "    </tr>\n",
       "  </thead>\n",
       "  <tbody>\n",
       "    <tr>\n",
       "      <th>0</th>\n",
       "      <td>0</td>\n",
       "      <td>tensor(0.5041)</td>\n",
       "      <td>tensor(1.0234)</td>\n",
       "      <td>tensor(0.5414)</td>\n",
       "    </tr>\n",
       "    <tr>\n",
       "      <th>1</th>\n",
       "      <td>1</td>\n",
       "      <td>tensor(0.5043)</td>\n",
       "      <td>tensor(1.0236)</td>\n",
       "      <td>tensor(0.5412)</td>\n",
       "    </tr>\n",
       "    <tr>\n",
       "      <th>2</th>\n",
       "      <td>2</td>\n",
       "      <td>tensor(0.5042)</td>\n",
       "      <td>tensor(1.0237)</td>\n",
       "      <td>tensor(0.5413)</td>\n",
       "    </tr>\n",
       "    <tr>\n",
       "      <th>3</th>\n",
       "      <td>3</td>\n",
       "      <td>tensor(0.5042)</td>\n",
       "      <td>tensor(1.0238)</td>\n",
       "      <td>tensor(0.5414)</td>\n",
       "    </tr>\n",
       "    <tr>\n",
       "      <th>4</th>\n",
       "      <td>4</td>\n",
       "      <td>tensor(0.5042)</td>\n",
       "      <td>tensor(1.0238)</td>\n",
       "      <td>tensor(0.5413)</td>\n",
       "    </tr>\n",
       "  </tbody>\n",
       "</table>\n",
       "</div>"
      ],
      "text/plain": [
       "   Unnamed: 0 Model vs. VIO Pose VIO vs. Ground Truth Pose  \\\n",
       "0           0     tensor(0.5041)            tensor(1.0234)   \n",
       "1           1     tensor(0.5043)            tensor(1.0236)   \n",
       "2           2     tensor(0.5042)            tensor(1.0237)   \n",
       "3           3     tensor(0.5042)            tensor(1.0238)   \n",
       "4           4     tensor(0.5042)            tensor(1.0238)   \n",
       "\n",
       "  Model vs. Ground Truth Pose  \n",
       "0              tensor(0.5414)  \n",
       "1              tensor(0.5412)  \n",
       "2              tensor(0.5413)  \n",
       "3              tensor(0.5414)  \n",
       "4              tensor(0.5413)  "
      ]
     },
     "execution_count": 3,
     "metadata": {},
     "output_type": "execute_result"
    }
   ],
   "source": []
  },
  {
   "cell_type": "code",
   "execution_count": null,
   "id": "dc3427e8",
   "metadata": {},
   "outputs": [],
   "source": []
  },
  {
   "cell_type": "code",
   "execution_count": null,
   "id": "a9161f8d",
   "metadata": {},
   "outputs": [],
   "source": [
    "\n",
    "import matplotlib.pyplot as plt\n",
    "import pandas as pd\n",
    "from typing import Sequence\n",
    "\n",
    "def plot_time_series(timestamps: Sequence, model_vio, vio_gt, model_gt):\n",
    "    plt.figure(figsize=(12, 6))\n",
    "    plt.plot(timestamps, model_vio, label=\"Model vs. VIO\")\n",
    "    plt.plot(timestamps, vio_gt, label=\"VIO vs. Ground Truth\")\n",
    "    plt.plot(timestamps, model_gt, label=\"Model vs. Ground Truth\")\n",
    "    plt.xlabel(\"Timestamp\")\n",
    "    plt.ylabel(\"Pose Error\")\n",
    "    plt.title(\"Error Over Time\")\n",
    "    plt.legend()\n",
    "    plt.tight_layout()\n",
    "    plt.show()\n",
    "\n",
    "def plot_time_lagged_correlation(timestamps: Sequence, model_vio, vio_gt, max_lag: int = 20):\n",
    "    df = pd.DataFrame({\n",
    "        \"timestamp\": timestamps,\n",
    "        \"model_vio\": model_vio,\n",
    "        \"vio_gt\": vio_gt\n",
    "    }).set_index(\"timestamp\")\n",
    "\n",
    "    lags = range(-max_lag, max_lag + 1)\n",
    "    corrs = [df[\"model_vio\"].corr(df[\"vio_gt\"].shift(lag)) for lag in lags]\n",
    "\n",
    "    plt.figure()\n",
    "    plt.plot(lags, corrs, marker='o')\n",
    "    plt.xlabel(\"Lag (samples)\")\n",
    "    plt.ylabel(\"Correlation\")\n",
    "    plt.title(\"Lagged Correlation: Model-VIO vs VIO-GT\")\n",
    "    plt.axhline(y=0, color=\"gray\", linestyle=\"--\")\n",
    "    plt.grid(True)\n",
    "    plt.tight_layout()\n",
    "    plt.show()\n",
    "\n",
    "def plot_scatter_colored_by_time(model_vio, vio_gt, timestamps: Sequence):\n",
    "    plt.figure(figsize=(8, 6))\n",
    "    scatter = plt.scatter(model_vio, vio_gt, c=timestamps, cmap=\"viridis\")\n",
    "    plt.xlabel(\"Model vs. VIO Error\")\n",
    "    plt.ylabel(\"VIO vs. Ground Truth Error\")\n",
    "    plt.title(\"Scatter Colored by Timestamp\")\n",
    "    plt.colorbar(scatter, label=\"Timestamp\")\n",
    "    plt.tight_layout()\n",
    "    plt.show()\n",
    "\n",
    "def plot_rolling_correlation(timestamps: Sequence, model_vio, vio_gt, window: int = 50):\n",
    "    df = pd.DataFrame({\n",
    "        \"timestamp\": timestamps,\n",
    "        \"model_vio\": model_vio,\n",
    "        \"vio_gt\": vio_gt\n",
    "    }).set_index(\"timestamp\")\n",
    "\n",
    "    rolling_corr = df[\"model_vio\"].rolling(window=window).corr(df[\"vio_gt\"])\n",
    "\n",
    "    plt.figure()\n",
    "    plt.plot(rolling_corr.index, rolling_corr, label=f\"Rolling Corr (window={window})\")\n",
    "    plt.xlabel(\"Timestamp\")\n",
    "    plt.ylabel(\"Correlation\")\n",
    "    plt.title(\"Rolling Correlation: Model-VIO vs VIO-GT\")\n",
    "    plt.grid(True)\n",
    "    plt.legend()\n",
    "    plt.tight_layout()\n",
    "    plt.show()\n",
    "\n",
    "def plot_all(df: pd.DataFrame):\n",
    "    timestamps = df.index if df.index.is_monotonic_increasing else range(len(df))\n",
    "    plot_time_series(timestamps, df[\"Model vs. VIO\"], df[\"VIO vs. GT\"], df[\"Model vs. GT\"])\n",
    "    plot_time_lagged_correlation(timestamps, df[\"Model vs. VIO\"], df[\"VIO vs. GT\"])\n",
    "    plot_scatter_colored_by_time(df[\"Model vs. VIO\"], df[\"VIO vs. GT\"], timestamps)\n",
    "    plot_rolling_correlation(timestamps, df[\"Model vs. VIO\"], df[\"VIO vs. GT\"])\n",
    "    \n",
    "    # Reports the overall correlation\n",
    "    print(df[\"Model vs. GT\"].corr(df[\"VIO vs. GT\"]))\n"
   ]
  }
 ],
 "metadata": {
  "kernelspec": {
   "display_name": "ece228-slam-vio",
   "language": "python",
   "name": "python3"
  },
  "language_info": {
   "codemirror_mode": {
    "name": "ipython",
    "version": 3
   },
   "file_extension": ".py",
   "mimetype": "text/x-python",
   "name": "python",
   "nbconvert_exporter": "python",
   "pygments_lexer": "ipython3",
   "version": "3.12.3"
  }
 },
 "nbformat": 4,
 "nbformat_minor": 5
}
